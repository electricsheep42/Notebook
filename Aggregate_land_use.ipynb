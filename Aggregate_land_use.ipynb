{
 "cells": [
  {
   "cell_type": "markdown",
   "metadata": {},
   "source": [
    "### Import python packages"
   ]
  },
  {
   "cell_type": "code",
   "execution_count": 1,
   "metadata": {},
   "outputs": [],
   "source": [
    "import arcpy, os, gc\n",
    "from arcpy import env\n",
    "from arcpy.sa import *"
   ]
  },
  {
   "cell_type": "markdown",
   "metadata": {},
   "source": [
    "### File Directory to Land Use TIF"
   ]
  },
  {
   "cell_type": "code",
   "execution_count": 2,
   "metadata": {},
   "outputs": [],
   "source": [
    "LuDIR = \"Data\""
   ]
  },
  {
   "cell_type": "markdown",
   "metadata": {},
   "source": [
    "### File Directory to Overlay polygon "
   ]
  },
  {
   "cell_type": "code",
   "execution_count": 3,
   "metadata": {},
   "outputs": [],
   "source": [
    "shpDIR = \"Data\""
   ]
  },
  {
   "cell_type": "markdown",
   "metadata": {},
   "source": [
    "### Summarize land use by overlay polygons"
   ]
  },
  {
   "cell_type": "code",
   "execution_count": 4,
   "metadata": {},
   "outputs": [],
   "source": [
    "def MilestoneLandUse_2013():\n",
    "    P6units = shpDIR + \"/P6_SUMUNITS_2019_polyD.shp\"\n",
    "    arcpy.env.workspace = LuDIR\n",
    "    arcpy.env.overwriteOutput = True\n",
    "    rasters = arcpy.ListRasters(\"*\", \"TIF\") #develops a list of rasters in the workspace\n",
    "    for raster in rasters:\n",
    "        lu, ext = os.path.splitext(raster)\n",
    "        if len(arcpy.ListFields(P6units,lu))<=0: \n",
    "            print (lu + \" started\")\n",
    "            table = os.path.join(\"in_memory\",lu+\"_x_P6\")\n",
    "            arcpy.sa.ZonalStatisticsAsTable(P6units,\"gridcode\", raster, table, \"DATA\",\"SUM\")\n",
    "            arcpy.AddField_management(P6units, lu, \"DOUBLE\")\n",
    "            arcpy.JoinField_management(P6units,\"gridcode\", table, \"gridcode\",[\"SUM\"])\n",
    "            arcpy.CalculateField_management(P6units, lu,\"!SUM!\",\"PYTHON_9.3\")\n",
    "            arcpy.DeleteField_management(P6units,\"SUM\")\n",
    "            print (lu + \" completed\")"
   ]
  },
  {
   "cell_type": "code",
   "execution_count": 5,
   "metadata": {},
   "outputs": [
    {
     "name": "stdout",
     "output_type": "stream",
     "text": [
      "CRP started\n",
      "CRP completed\n",
      "FORE started\n",
      "FORE completed\n",
      "INR started\n",
      "INR completed\n",
      "IR started\n",
      "IR completed\n",
      "MO started\n",
      "MO completed\n",
      "PAS started\n",
      "PAS completed\n",
      "TCI started\n",
      "TCI completed\n",
      "TCT started\n",
      "TCT completed\n",
      "TG started\n",
      "TG completed\n",
      "WAT started\n",
      "WAT completed\n",
      "WLF started\n",
      "WLF completed\n",
      "WLO started\n",
      "WLO completed\n",
      "WLT started\n",
      "WLT completed\n"
     ]
    }
   ],
   "source": [
    "MilestoneLandUse_2013()"
   ]
  },
  {
   "cell_type": "code",
   "execution_count": null,
   "metadata": {},
   "outputs": [],
   "source": []
  }
 ],
 "metadata": {
  "kernelspec": {
   "display_name": "Python 3",
   "language": "python",
   "name": "python3"
  },
  "language_info": {
   "codemirror_mode": {
    "name": "ipython",
    "version": 3
   },
   "file_extension": ".py",
   "mimetype": "text/x-python",
   "name": "python",
   "nbconvert_exporter": "python",
   "pygments_lexer": "ipython3",
   "version": "3.6.8"
  }
 },
 "nbformat": 4,
 "nbformat_minor": 2
}
